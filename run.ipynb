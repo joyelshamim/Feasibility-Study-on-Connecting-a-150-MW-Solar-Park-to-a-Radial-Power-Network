{
 "cells": [
  {
   "cell_type": "markdown",
   "id": "f6a71a2a",
   "metadata": {},
   "source": [
    "# Run Power System Analysis Tool\n",
    "\n",
    "This notebook provides an interface to run the power system analysis tool. It executes the main.py script which:\n",
    "\n",
    "1. Lists available analysis configurations in the CSS folder\n",
    "2. Allows you to select and run a specific analysis\n",
    "3. Displays power flow results\n",
    "4. Generates SVG diagrams in the 'SLD diagram' folder"
   ]
  },
  {
   "cell_type": "code",
   "execution_count": 6,
   "id": "0d6fa13d",
   "metadata": {},
   "outputs": [],
   "source": [
    "# Fix for Windows asyncio warning\n",
    "import asyncio\n",
    "import platform\n",
    "\n",
    "if platform.system() == 'Windows':\n",
    "    asyncio.set_event_loop_policy(asyncio.WindowsSelectorEventLoopPolicy())"
   ]
  },
  {
   "cell_type": "markdown",
   "id": "e5f1ae7a",
   "metadata": {},
   "source": [
    "## Run the main.py script\n",
    "\n",
    "Execute the following cell to run the power system analysis tool:"
   ]
  },
  {
   "cell_type": "code",
   "execution_count": 7,
   "id": "a493b789",
   "metadata": {},
   "outputs": [
    {
     "name": "stdout",
     "output_type": "stream",
     "text": [
      "============================================================\n",
      "POWER SYSTEM ANALYSIS TOOL\n",
      "============================================================\n",
      "\n",
      "This tool allows you to run different power flow analyses and generate SLD diagrams.\n",
      "\n",
      "Available analysis configurations:\n",
      "----------------------------------\n",
      "1. Transformer Station Near Aalamoen 22KV\n",
      "2. Transformer Station Near Aalamoen 33KV\n",
      "3. Transformer Station Near Aalamoen 33KV with BESS extra bus in solar plant\n",
      "4. Transformer Station Near the Solar Plant 22KV\n",
      "5. Transformer Station Near the Solar Plant 33KV\n",
      "----------------------------------\n",
      "\n",
      "Select an option:\n",
      "1. Run a specific analysis\n",
      "2. List generated SVG diagrams\n",
      "3. Exit\n"
     ]
    },
    {
     "name": "stdin",
     "output_type": "stream",
     "text": [
      "\n",
      "Enter your choice (1-3):  2\n"
     ]
    },
    {
     "name": "stdout",
     "output_type": "stream",
     "text": [
      "\n",
      "Found 5 SVG diagrams in SLD diagram folder:\n",
      "- sld_2x2_matrix_aalamoen_22KV.svg\n",
      "- sld_L_shape_near Alamoen_22KV.svg\n",
      "- sld_cascade_near Alamoen_22KV.svg\n",
      "- sld_horizontal_near Alamoen_22KV.svg\n",
      "- sld_vertical_near Alamoen_22KV.svg\n",
      "\n",
      "Select an option:\n",
      "1. Run a specific analysis\n",
      "2. List generated SVG diagrams\n",
      "3. Exit\n"
     ]
    },
    {
     "name": "stdin",
     "output_type": "stream",
     "text": [
      "\n",
      "Enter your choice (1-3):  1\n",
      "\n",
      "Enter the number of the analysis to run:  2\n"
     ]
    },
    {
     "name": "stdout",
     "output_type": "stream",
     "text": [
      "Running analysis for: Transformer Station Near Aalamoen 33KV\n",
      "\n",
      "Running analysis from: SLD_Transformer_Station_Near_Aalamoen_33KV.ipynb\n",
      "This may take a minute...\n",
      "\n",
      "\n",
      "Analysis completed successfully!\n",
      "\n",
      "=== POWER FLOW ANALYSIS RESULTS ===\n",
      "\n",
      "=== Power Flow Analysis ===\n",
      "\n",
      "Convergence Status:\n",
      "Status: ComponentStatus.CONVERGED\n",
      "Details: Converged\n",
      "\n",
      "=== System Configuration ===\n",
      "1. Solar Plant (33kV Collection):\n",
      "- 5 feeders x 30.0 MW = 150 MW\n",
      "\n",
      "2. Aalamoen Substation:\n",
      "- Step-up transformer: 2 × 100MVA (33/132 kV)\n",
      "- Transmission line: 1.8 km at 132kV\n",
      "\n",
      "2. Hydro Plant:\n",
      "- Generation: 100 MW\n",
      "- Voltage: 132 kV\n",
      "- Transmission: 2 x 10 km lines\n",
      "\n",
      "3. Alamoen Plant:\n",
      "- Generation: 103 MW\n",
      "- Voltage: 132 kV\n",
      "\n",
      "4. Grid Connection:\n",
      "- 2 x 15 km lines at 132 kV\n",
      "- Main transformers: 3 × 160MVA (132/300 kV)\n",
      "\n",
      "=== Slack Bus Analysis ===\n",
      "Location: \n",
      "Voltage: 300.00 kV\n",
      "Power absorbed: 0.00 MW\n",
      "Reactive power: -56.79 MVAR\n",
      "\n",
      "Target values:\n",
      "Target P: 0.00 MW\n",
      "Target Q: 0.00 MVAR\n",
      "\n",
      "=== Voltage Profile and Drops ===\n",
      "\n",
      "Bus: Hydro_Generator_0\n",
      "Actual Voltage: 132.00 kV\n",
      "Nominal Voltage: 132.00 kV\n",
      "Voltage Deviation: +0.00%\n",
      "Angle: 9.4921°\n",
      "\n",
      "Bus: Solar_Plant_33kV_CB_0\n",
      "Actual Voltage: 33.00 kV\n",
      "Nominal Voltage: 33.00 kV\n",
      "Voltage Deviation: +0.00%\n",
      "Angle: 14.6747°\n",
      "\n",
      "Bus: Alamoen_33kV_Switchgear_0\n",
      "Actual Voltage: 32.87 kV\n",
      "Nominal Voltage: 33.00 kV\n",
      "Voltage Deviation: -0.39%\n",
      "Angle: 14.3720°\n",
      "\n",
      "Bus: Alamoen_132kV_0\n",
      "Actual Voltage: 132.00 kV\n",
      "Nominal Voltage: 132.00 kV\n",
      "Voltage Deviation: +0.00%\n",
      "Angle: 8.8239°\n",
      "\n",
      "Bus: Reskjem_132kV_0\n",
      "Actual Voltage: 130.91 kV\n",
      "Nominal Voltage: 132.00 kV\n",
      "Voltage Deviation: -0.82%\n",
      "Angle: 5.3205°\n",
      "\n",
      "Bus: Reskjem_300kV_0\n",
      "Actual Voltage: 300.00 kV\n",
      "Nominal Voltage: 300.00 kV\n",
      "Voltage Deviation: +0.00%\n",
      "Angle: 0.0000°\n",
      "\n",
      "=== Transmission Path Voltage Drop Analysis ===\n",
      "\n",
      "1. Solar Plant Feeders (33kV, 1.8km):\n",
      "\n",
      "Feeder 1:\n",
      "Power Flow: 31.00 MW\n",
      "Current: 542.66 A\n",
      "Sending End Voltage: 33.00 kV\n",
      "Receiving End Voltage: 32.87 kV\n",
      "Voltage Drop: 0.13 kV (+0.39%)\n",
      "Losses: 0.12 MW (0.40%)\n",
      "\n",
      "Feeder 2:\n",
      "Power Flow: 31.00 MW\n",
      "Current: 542.66 A\n",
      "Sending End Voltage: 33.00 kV\n",
      "Receiving End Voltage: 32.87 kV\n",
      "Voltage Drop: 0.13 kV (+0.39%)\n",
      "Losses: 0.12 MW (0.40%)\n",
      "\n",
      "Feeder 3:\n",
      "Power Flow: 31.00 MW\n",
      "Current: 542.66 A\n",
      "Sending End Voltage: 33.00 kV\n",
      "Receiving End Voltage: 32.87 kV\n",
      "Voltage Drop: 0.13 kV (+0.39%)\n",
      "Losses: 0.12 MW (0.40%)\n",
      "\n",
      "Feeder 4:\n",
      "Power Flow: 31.00 MW\n",
      "Current: 542.66 A\n",
      "Sending End Voltage: 33.00 kV\n",
      "Receiving End Voltage: 32.87 kV\n",
      "Voltage Drop: 0.13 kV (+0.39%)\n",
      "Losses: 0.12 MW (0.40%)\n",
      "\n",
      "Feeder 5:\n",
      "Power Flow: 31.00 MW\n",
      "Current: 542.66 A\n",
      "Sending End Voltage: 33.00 kV\n",
      "Receiving End Voltage: 32.87 kV\n",
      "Voltage Drop: 0.13 kV (+0.39%)\n",
      "Losses: 0.12 MW (0.40%)\n",
      "\n",
      "=== Transformer Analysis ===\n",
      "\n",
      "2. Alamoen Transformers (33/132 kV):\n",
      "\n",
      "Transformer TR1_A:\n",
      "LV Side (33kV): 32.87 kV\n",
      "HV Side (132kV): 132.00 kV\n",
      "Power Flow: 77.19 MW\n",
      "Losses: 0.35 MW\n",
      "Loading: 77.2%\n",
      "\n",
      "Transformer TR1_B:\n",
      "LV Side (33kV): 32.87 kV\n",
      "HV Side (132kV): 132.00 kV\n",
      "Power Flow: 77.19 MW\n",
      "Losses: 0.35 MW\n",
      "Loading: 77.2%\n",
      "\n",
      "6. Main Transformers (132/300 kV):\n",
      "\n",
      "Transformer T1_A:\n",
      "LV Side: 130.91 kV\n",
      "HV Side: 300.00 kV\n",
      "Transformation Ratio: 2.2916\n",
      "Loading: 73.5%\n",
      "Losses: 0.43 MW\n",
      "\n",
      "Transformer T1_B:\n",
      "LV Side: 130.91 kV\n",
      "HV Side: 300.00 kV\n",
      "Transformation Ratio: 2.2916\n",
      "Loading: 73.5%\n",
      "Losses: 0.43 MW\n",
      "\n",
      "Transformer T1_C:\n",
      "LV Side: 130.91 kV\n",
      "HV Side: 300.00 kV\n",
      "Transformation Ratio: 2.2916\n",
      "Loading: 73.5%\n",
      "Losses: 0.43 MW\n",
      "\n",
      "Total Main Transformer System:\n",
      "Total Losses: 1.30 MW\n",
      "Average Loading: 73.5%\n",
      "\n",
      "4. Hydro Plant Lines (2 x 10km):\n",
      "\n",
      "Line L1_H1:\n",
      "Sending End: 132.00 kV\n",
      "Receiving End: 132.00 kV\n",
      "Voltage Drop: 0.00 kV (+0.00%)\n",
      "\n",
      "Line L1_H2:\n",
      "Sending End: 132.00 kV\n",
      "Receiving End: 132.00 kV\n",
      "Voltage Drop: 0.00 kV (+0.00%)\n",
      "\n",
      "5. Grid Connection Lines (2 x 15km):\n",
      "\n",
      "Line L3_G1:\n",
      "Sending End: 132.00 kV\n",
      "Receiving End: 130.91 kV\n",
      "Voltage Drop: 1.09 kV (+0.82%)\n",
      "\n",
      "Line L3_G2:\n",
      "Sending End: 132.00 kV\n",
      "Receiving End: 130.91 kV\n",
      "Voltage Drop: 1.09 kV (+0.82%)\n",
      "\n",
      "Line Power Flows:\n",
      "\n",
      "Line Hydro_Line_1 (10km):\n",
      "Power Flow: 50.00 MW + j-9.34 MVAr → 49.89 MW + j-8.70 MVAr\n",
      "Current: 222.47 A\n",
      "Losses: 0.11 MW\n",
      "\n",
      "Line Hydro_Line_2 (10km):\n",
      "Power Flow: 50.00 MW + j-9.34 MVAr → 49.89 MW + j-8.70 MVAr\n",
      "Current: 222.47 A\n",
      "Losses: 0.11 MW\n",
      "\n",
      "Line Solar_Feeder_1_33kV_1.8km:\n",
      "Power Flow: 31.00 MW + j-1.03 MVAr → 30.88 MW + j-0.84 MVAr\n",
      "Current: 542.66 A\n",
      "Losses: 0.12 MW\n",
      "\n",
      "Line Solar_Feeder_2_33kV_1.8km:\n",
      "Power Flow: 31.00 MW + j-1.03 MVAr → 30.88 MW + j-0.84 MVAr\n",
      "Current: 542.66 A\n",
      "Losses: 0.12 MW\n",
      "\n",
      "Line Solar_Feeder_3_33kV_1.8km:\n",
      "Power Flow: 31.00 MW + j-1.03 MVAr → 30.88 MW + j-0.84 MVAr\n",
      "Current: 542.66 A\n",
      "Losses: 0.12 MW\n",
      "\n",
      "Line Solar_Feeder_4_33kV_1.8km:\n",
      "Power Flow: 31.00 MW + j-1.03 MVAr → 30.88 MW + j-0.84 MVAr\n",
      "Current: 542.66 A\n",
      "Losses: 0.12 MW\n",
      "\n",
      "Line Solar_Feeder_5_33kV_1.8km:\n",
      "Power Flow: 31.00 MW + j-1.03 MVAr → 30.88 MW + j-0.84 MVAr\n",
      "Current: 542.66 A\n",
      "Losses: 0.12 MW\n",
      "\n",
      "Line Grid_Line_1 (15km):\n",
      "Power Flow: 178.23 MW + j-3.33 MVAr → 176.29 MW + j-12.30 MVAr\n",
      "Current: 779.71 A\n",
      "Losses: 1.95 MW\n",
      "\n",
      "Line Grid_Line_2 (15km):\n",
      "Power Flow: 178.23 MW + j-3.33 MVAr → 176.29 MW + j-12.30 MVAr\n",
      "Current: 779.71 A\n",
      "Losses: 1.95 MW\n",
      "\n",
      "=== Total System Losses Summary ===\n",
      "33kV Feeder Losses: 0.62 MW\n",
      "33/132kV Transformer Losses: 0.70 MW\n",
      "132kV System Losses: 4.10 MW\n",
      "132/300kV Transformer Losses: 1.30 MW\n",
      "Total System Losses: 6.72 MW\n",
      "Generated multiple SLD layouts:\n",
      "\n",
      "=== Loss Analysis for Complete System ===\n",
      "\n",
      "Generation Summary:\n",
      "Generator G1: 100.00 MW\n",
      "Generator Feeder_1: 30.00 MW\n",
      "Generator Feeder_2: 30.00 MW\n",
      "Generator Feeder_3: 30.00 MW\n",
      "Generator Feeder_4: 30.00 MW\n",
      "Generator Feeder_5: 30.00 MW\n",
      "Generator G3: 103.00 MW\n",
      "Total Generation: 353.00 MW\n",
      "\n",
      "33kV Feeder System Losses:\n",
      "\n",
      "Feeder 1:\n",
      "Power Flow: 31.00 MW\n",
      "Current: 542.66 A\n",
      "Loading: 83.5% of rating\n",
      "Losses: 0.125 MW\n",
      "Loss percentage: 0.403%\n",
      "\n",
      "Feeder 2:\n",
      "Power Flow: 31.00 MW\n",
      "Current: 542.66 A\n",
      "Loading: 83.5% of rating\n",
      "Losses: 0.125 MW\n",
      "Loss percentage: 0.403%\n",
      "\n",
      "Feeder 3:\n",
      "Power Flow: 31.00 MW\n",
      "Current: 542.66 A\n",
      "Loading: 83.5% of rating\n",
      "Losses: 0.125 MW\n",
      "Loss percentage: 0.403%\n",
      "\n",
      "Feeder 4:\n",
      "Power Flow: 31.00 MW\n",
      "Current: 542.66 A\n",
      "Loading: 83.5% of rating\n",
      "Losses: 0.125 MW\n",
      "Loss percentage: 0.403%\n",
      "\n",
      "Feeder 5:\n",
      "Power Flow: 31.00 MW\n",
      "Current: 542.66 A\n",
      "Loading: 83.5% of rating\n",
      "Losses: 0.125 MW\n",
      "Loss percentage: 0.403%\n",
      "\n",
      "Total 33kV Feeder Statistics:\n",
      "Total Feeder Losses: 0.625 MW\n",
      "\n",
      "Hydro Line Hydro_Line_1 (10km):\n",
      "Current: 222.47 A\n",
      "Power Flow: 50.00 MW\n",
      "Losses: 0.11 MW\n",
      "Loss percentage: 0.210%\n",
      "\n",
      "Hydro Line Hydro_Line_2 (10km):\n",
      "Current: 222.47 A\n",
      "Power Flow: 50.00 MW\n",
      "Losses: 0.11 MW\n",
      "Loss percentage: 0.210%\n",
      "\n",
      "Grid Line Grid_Line_1 (15km):\n",
      "Current: 779.71 A\n",
      "Power Flow: 178.23 MW\n",
      "Losses: 1.95 MW\n",
      "Loss percentage: 1.092%\n",
      "\n",
      "Grid Line Grid_Line_2 (15km):\n",
      "Current: 779.71 A\n",
      "Power Flow: 178.23 MW\n",
      "Losses: 1.95 MW\n",
      "Loss percentage: 1.092%\n",
      "\n",
      "Alamoen Transformers (33/132 kV):\n",
      "\n",
      "Alamoen_Transformer_A:\n",
      "Power Flow: 77.19 MW\n",
      "Losses: 0.35 MW\n",
      "Loss percentage: 0.451%\n",
      "Loading: 77.2%\n",
      "\n",
      "Alamoen_Transformer_B:\n",
      "Power Flow: 77.19 MW\n",
      "Losses: 0.35 MW\n",
      "Loss percentage: 0.451%\n",
      "Loading: 77.2%\n",
      "\n",
      "Main Grid Transformers (132/300 kV):\n",
      "\n",
      "Grid_Transformer_A:\n",
      "Power Flow: 117.53 MW\n",
      "Losses: 0.43 MW\n",
      "Loss percentage: 0.368%\n",
      "Loading: 73.5%\n",
      "\n",
      "Grid_Transformer_B:\n",
      "Power Flow: 117.53 MW\n",
      "Losses: 0.43 MW\n",
      "Loss percentage: 0.368%\n",
      "Loading: 73.5%\n",
      "\n",
      "Grid_Transformer_C:\n",
      "Power Flow: 117.53 MW\n",
      "Losses: 0.43 MW\n",
      "Loss percentage: 0.368%\n",
      "Loading: 73.5%\n",
      "\n",
      "=== Total System Losses Summary ===\n",
      "33kV Feeder Losses: 0.625 MW\n",
      "132kV System Losses: 4.102 MW\n",
      "Alamoen Transformer Losses (33/132kV): 0.696 MW\n",
      "Main Transformer Losses (132/300kV): 1.298 MW\n",
      "Total System Losses: 5.423 MW\n",
      "System Efficiency: 98.464%\n",
      "\n",
      "\n",
      "Found 11 SLD diagrams in 'SLD diagram' folder:\n",
      "- sld_2x2_matrix_aalamoen_22KV.svg\n",
      "- sld_2x2_matrix_aalamoen_33KV.svg\n",
      "- sld_L_shape_aalamoen_33KV.svg\n",
      "- sld_L_shape_near Alamoen_22KV.svg\n",
      "- sld_cascade_aalamoen_33KV.svg\n",
      "- sld_cascade_near Alamoen_22KV.svg\n",
      "- sld_horizontal_aalamoen_33KV.svg\n",
      "- sld_horizontal_near Alamoen_22KV.svg\n",
      "- sld_separated_aalamoen_33KV.svg\n",
      "- sld_vertical_aalamoen_33KV.svg\n",
      "- sld_vertical_near Alamoen_22KV.svg\n",
      "\n",
      "Select an option:\n",
      "1. Run a specific analysis\n",
      "2. List generated SVG diagrams\n",
      "3. Exit\n"
     ]
    },
    {
     "name": "stdin",
     "output_type": "stream",
     "text": [
      "\n",
      "Enter your choice (1-3):  3\n"
     ]
    },
    {
     "name": "stdout",
     "output_type": "stream",
     "text": [
      "Exiting the program.\n"
     ]
    }
   ],
   "source": [
    "%run main.py"
   ]
  },
  {
   "cell_type": "markdown",
   "id": "c9c19f4c",
   "metadata": {},
   "source": [
    "## Display Generated SVG Diagrams\n",
    "\n",
    "If you want to view the generated SVG diagrams after running an analysis, execute the following cell:"
   ]
  },
  {
   "cell_type": "code",
   "execution_count": 8,
   "id": "d78e4f8c",
   "metadata": {},
   "outputs": [
    {
     "name": "stdout",
     "output_type": "stream",
     "text": [
      "Found 11 SLD diagram(s) in main folder:\n",
      "\n",
      "sld_2x2_matrix_aalamoen_22KV.svg:\n"
     ]
    },
    {
     "data": {
      "text/html": [
       "<a href='SLD diagram\\sld_2x2_matrix_aalamoen_22KV.svg' target='_blank'>SLD diagram\\sld_2x2_matrix_aalamoen_22KV.svg</a><br>"
      ],
      "text/plain": [
       "C:\\Users\\LENOVO\\Solarpark SLD for GitHub\\SLD diagram\\sld_2x2_matrix_aalamoen_22KV.svg"
      ]
     },
     "metadata": {},
     "output_type": "display_data"
    },
    {
     "name": "stdout",
     "output_type": "stream",
     "text": [
      "\n",
      "sld_2x2_matrix_aalamoen_33KV.svg:\n"
     ]
    },
    {
     "data": {
      "text/html": [
       "<a href='SLD diagram\\sld_2x2_matrix_aalamoen_33KV.svg' target='_blank'>SLD diagram\\sld_2x2_matrix_aalamoen_33KV.svg</a><br>"
      ],
      "text/plain": [
       "C:\\Users\\LENOVO\\Solarpark SLD for GitHub\\SLD diagram\\sld_2x2_matrix_aalamoen_33KV.svg"
      ]
     },
     "metadata": {},
     "output_type": "display_data"
    },
    {
     "name": "stdout",
     "output_type": "stream",
     "text": [
      "\n",
      "sld_L_shape_aalamoen_33KV.svg:\n"
     ]
    },
    {
     "data": {
      "text/html": [
       "<a href='SLD diagram\\sld_L_shape_aalamoen_33KV.svg' target='_blank'>SLD diagram\\sld_L_shape_aalamoen_33KV.svg</a><br>"
      ],
      "text/plain": [
       "C:\\Users\\LENOVO\\Solarpark SLD for GitHub\\SLD diagram\\sld_L_shape_aalamoen_33KV.svg"
      ]
     },
     "metadata": {},
     "output_type": "display_data"
    },
    {
     "name": "stdout",
     "output_type": "stream",
     "text": [
      "\n",
      "sld_L_shape_near Alamoen_22KV.svg:\n"
     ]
    },
    {
     "data": {
      "text/html": [
       "<a href='SLD diagram\\sld_L_shape_near Alamoen_22KV.svg' target='_blank'>SLD diagram\\sld_L_shape_near Alamoen_22KV.svg</a><br>"
      ],
      "text/plain": [
       "C:\\Users\\LENOVO\\Solarpark SLD for GitHub\\SLD diagram\\sld_L_shape_near Alamoen_22KV.svg"
      ]
     },
     "metadata": {},
     "output_type": "display_data"
    },
    {
     "name": "stdout",
     "output_type": "stream",
     "text": [
      "\n",
      "sld_cascade_aalamoen_33KV.svg:\n"
     ]
    },
    {
     "data": {
      "text/html": [
       "<a href='SLD diagram\\sld_cascade_aalamoen_33KV.svg' target='_blank'>SLD diagram\\sld_cascade_aalamoen_33KV.svg</a><br>"
      ],
      "text/plain": [
       "C:\\Users\\LENOVO\\Solarpark SLD for GitHub\\SLD diagram\\sld_cascade_aalamoen_33KV.svg"
      ]
     },
     "metadata": {},
     "output_type": "display_data"
    },
    {
     "name": "stdout",
     "output_type": "stream",
     "text": [
      "\n",
      "sld_cascade_near Alamoen_22KV.svg:\n"
     ]
    },
    {
     "data": {
      "text/html": [
       "<a href='SLD diagram\\sld_cascade_near Alamoen_22KV.svg' target='_blank'>SLD diagram\\sld_cascade_near Alamoen_22KV.svg</a><br>"
      ],
      "text/plain": [
       "C:\\Users\\LENOVO\\Solarpark SLD for GitHub\\SLD diagram\\sld_cascade_near Alamoen_22KV.svg"
      ]
     },
     "metadata": {},
     "output_type": "display_data"
    },
    {
     "name": "stdout",
     "output_type": "stream",
     "text": [
      "\n",
      "sld_horizontal_aalamoen_33KV.svg:\n"
     ]
    },
    {
     "data": {
      "text/html": [
       "<a href='SLD diagram\\sld_horizontal_aalamoen_33KV.svg' target='_blank'>SLD diagram\\sld_horizontal_aalamoen_33KV.svg</a><br>"
      ],
      "text/plain": [
       "C:\\Users\\LENOVO\\Solarpark SLD for GitHub\\SLD diagram\\sld_horizontal_aalamoen_33KV.svg"
      ]
     },
     "metadata": {},
     "output_type": "display_data"
    },
    {
     "name": "stdout",
     "output_type": "stream",
     "text": [
      "\n",
      "sld_horizontal_near Alamoen_22KV.svg:\n"
     ]
    },
    {
     "data": {
      "text/html": [
       "<a href='SLD diagram\\sld_horizontal_near Alamoen_22KV.svg' target='_blank'>SLD diagram\\sld_horizontal_near Alamoen_22KV.svg</a><br>"
      ],
      "text/plain": [
       "C:\\Users\\LENOVO\\Solarpark SLD for GitHub\\SLD diagram\\sld_horizontal_near Alamoen_22KV.svg"
      ]
     },
     "metadata": {},
     "output_type": "display_data"
    },
    {
     "name": "stdout",
     "output_type": "stream",
     "text": [
      "\n",
      "sld_separated_aalamoen_33KV.svg:\n"
     ]
    },
    {
     "data": {
      "text/html": [
       "<a href='SLD diagram\\sld_separated_aalamoen_33KV.svg' target='_blank'>SLD diagram\\sld_separated_aalamoen_33KV.svg</a><br>"
      ],
      "text/plain": [
       "C:\\Users\\LENOVO\\Solarpark SLD for GitHub\\SLD diagram\\sld_separated_aalamoen_33KV.svg"
      ]
     },
     "metadata": {},
     "output_type": "display_data"
    },
    {
     "name": "stdout",
     "output_type": "stream",
     "text": [
      "\n",
      "sld_vertical_aalamoen_33KV.svg:\n"
     ]
    },
    {
     "data": {
      "text/html": [
       "<a href='SLD diagram\\sld_vertical_aalamoen_33KV.svg' target='_blank'>SLD diagram\\sld_vertical_aalamoen_33KV.svg</a><br>"
      ],
      "text/plain": [
       "C:\\Users\\LENOVO\\Solarpark SLD for GitHub\\SLD diagram\\sld_vertical_aalamoen_33KV.svg"
      ]
     },
     "metadata": {},
     "output_type": "display_data"
    },
    {
     "name": "stdout",
     "output_type": "stream",
     "text": [
      "\n",
      "sld_vertical_near Alamoen_22KV.svg:\n"
     ]
    },
    {
     "data": {
      "text/html": [
       "<a href='SLD diagram\\sld_vertical_near Alamoen_22KV.svg' target='_blank'>SLD diagram\\sld_vertical_near Alamoen_22KV.svg</a><br>"
      ],
      "text/plain": [
       "C:\\Users\\LENOVO\\Solarpark SLD for GitHub\\SLD diagram\\sld_vertical_near Alamoen_22KV.svg"
      ]
     },
     "metadata": {},
     "output_type": "display_data"
    },
    {
     "name": "stdout",
     "output_type": "stream",
     "text": [
      "\n",
      "Found 11 SLD diagram(s) in CSS folder:\n",
      "\n",
      "sld_2x2_matrix_aalamoen_22KV.svg:\n"
     ]
    },
    {
     "data": {
      "text/html": [
       "<a href='CSS/SLD diagram\\sld_2x2_matrix_aalamoen_22KV.svg' target='_blank'>CSS/SLD diagram\\sld_2x2_matrix_aalamoen_22KV.svg</a><br>"
      ],
      "text/plain": [
       "C:\\Users\\LENOVO\\Solarpark SLD for GitHub\\CSS\\SLD diagram\\sld_2x2_matrix_aalamoen_22KV.svg"
      ]
     },
     "metadata": {},
     "output_type": "display_data"
    },
    {
     "name": "stdout",
     "output_type": "stream",
     "text": [
      "\n",
      "sld_2x2_matrix_aalamoen_33KV.svg:\n"
     ]
    },
    {
     "data": {
      "text/html": [
       "<a href='CSS/SLD diagram\\sld_2x2_matrix_aalamoen_33KV.svg' target='_blank'>CSS/SLD diagram\\sld_2x2_matrix_aalamoen_33KV.svg</a><br>"
      ],
      "text/plain": [
       "C:\\Users\\LENOVO\\Solarpark SLD for GitHub\\CSS\\SLD diagram\\sld_2x2_matrix_aalamoen_33KV.svg"
      ]
     },
     "metadata": {},
     "output_type": "display_data"
    },
    {
     "name": "stdout",
     "output_type": "stream",
     "text": [
      "\n",
      "sld_L_shape_aalamoen_33KV.svg:\n"
     ]
    },
    {
     "data": {
      "text/html": [
       "<a href='CSS/SLD diagram\\sld_L_shape_aalamoen_33KV.svg' target='_blank'>CSS/SLD diagram\\sld_L_shape_aalamoen_33KV.svg</a><br>"
      ],
      "text/plain": [
       "C:\\Users\\LENOVO\\Solarpark SLD for GitHub\\CSS\\SLD diagram\\sld_L_shape_aalamoen_33KV.svg"
      ]
     },
     "metadata": {},
     "output_type": "display_data"
    },
    {
     "name": "stdout",
     "output_type": "stream",
     "text": [
      "\n",
      "sld_L_shape_near Alamoen_22KV.svg:\n"
     ]
    },
    {
     "data": {
      "text/html": [
       "<a href='CSS/SLD diagram\\sld_L_shape_near Alamoen_22KV.svg' target='_blank'>CSS/SLD diagram\\sld_L_shape_near Alamoen_22KV.svg</a><br>"
      ],
      "text/plain": [
       "C:\\Users\\LENOVO\\Solarpark SLD for GitHub\\CSS\\SLD diagram\\sld_L_shape_near Alamoen_22KV.svg"
      ]
     },
     "metadata": {},
     "output_type": "display_data"
    },
    {
     "name": "stdout",
     "output_type": "stream",
     "text": [
      "\n",
      "sld_cascade_aalamoen_33KV.svg:\n"
     ]
    },
    {
     "data": {
      "text/html": [
       "<a href='CSS/SLD diagram\\sld_cascade_aalamoen_33KV.svg' target='_blank'>CSS/SLD diagram\\sld_cascade_aalamoen_33KV.svg</a><br>"
      ],
      "text/plain": [
       "C:\\Users\\LENOVO\\Solarpark SLD for GitHub\\CSS\\SLD diagram\\sld_cascade_aalamoen_33KV.svg"
      ]
     },
     "metadata": {},
     "output_type": "display_data"
    },
    {
     "name": "stdout",
     "output_type": "stream",
     "text": [
      "\n",
      "sld_cascade_near Alamoen_22KV.svg:\n"
     ]
    },
    {
     "data": {
      "text/html": [
       "<a href='CSS/SLD diagram\\sld_cascade_near Alamoen_22KV.svg' target='_blank'>CSS/SLD diagram\\sld_cascade_near Alamoen_22KV.svg</a><br>"
      ],
      "text/plain": [
       "C:\\Users\\LENOVO\\Solarpark SLD for GitHub\\CSS\\SLD diagram\\sld_cascade_near Alamoen_22KV.svg"
      ]
     },
     "metadata": {},
     "output_type": "display_data"
    },
    {
     "name": "stdout",
     "output_type": "stream",
     "text": [
      "\n",
      "sld_horizontal_aalamoen_33KV.svg:\n"
     ]
    },
    {
     "data": {
      "text/html": [
       "<a href='CSS/SLD diagram\\sld_horizontal_aalamoen_33KV.svg' target='_blank'>CSS/SLD diagram\\sld_horizontal_aalamoen_33KV.svg</a><br>"
      ],
      "text/plain": [
       "C:\\Users\\LENOVO\\Solarpark SLD for GitHub\\CSS\\SLD diagram\\sld_horizontal_aalamoen_33KV.svg"
      ]
     },
     "metadata": {},
     "output_type": "display_data"
    },
    {
     "name": "stdout",
     "output_type": "stream",
     "text": [
      "\n",
      "sld_horizontal_near Alamoen_22KV.svg:\n"
     ]
    },
    {
     "data": {
      "text/html": [
       "<a href='CSS/SLD diagram\\sld_horizontal_near Alamoen_22KV.svg' target='_blank'>CSS/SLD diagram\\sld_horizontal_near Alamoen_22KV.svg</a><br>"
      ],
      "text/plain": [
       "C:\\Users\\LENOVO\\Solarpark SLD for GitHub\\CSS\\SLD diagram\\sld_horizontal_near Alamoen_22KV.svg"
      ]
     },
     "metadata": {},
     "output_type": "display_data"
    },
    {
     "name": "stdout",
     "output_type": "stream",
     "text": [
      "\n",
      "sld_separated_aalamoen_33KV.svg:\n"
     ]
    },
    {
     "data": {
      "text/html": [
       "<a href='CSS/SLD diagram\\sld_separated_aalamoen_33KV.svg' target='_blank'>CSS/SLD diagram\\sld_separated_aalamoen_33KV.svg</a><br>"
      ],
      "text/plain": [
       "C:\\Users\\LENOVO\\Solarpark SLD for GitHub\\CSS\\SLD diagram\\sld_separated_aalamoen_33KV.svg"
      ]
     },
     "metadata": {},
     "output_type": "display_data"
    },
    {
     "name": "stdout",
     "output_type": "stream",
     "text": [
      "\n",
      "sld_vertical_aalamoen_33KV.svg:\n"
     ]
    },
    {
     "data": {
      "text/html": [
       "<a href='CSS/SLD diagram\\sld_vertical_aalamoen_33KV.svg' target='_blank'>CSS/SLD diagram\\sld_vertical_aalamoen_33KV.svg</a><br>"
      ],
      "text/plain": [
       "C:\\Users\\LENOVO\\Solarpark SLD for GitHub\\CSS\\SLD diagram\\sld_vertical_aalamoen_33KV.svg"
      ]
     },
     "metadata": {},
     "output_type": "display_data"
    },
    {
     "name": "stdout",
     "output_type": "stream",
     "text": [
      "\n",
      "sld_vertical_near Alamoen_22KV.svg:\n"
     ]
    },
    {
     "data": {
      "text/html": [
       "<a href='CSS/SLD diagram\\sld_vertical_near Alamoen_22KV.svg' target='_blank'>CSS/SLD diagram\\sld_vertical_near Alamoen_22KV.svg</a><br>"
      ],
      "text/plain": [
       "C:\\Users\\LENOVO\\Solarpark SLD for GitHub\\CSS\\SLD diagram\\sld_vertical_near Alamoen_22KV.svg"
      ]
     },
     "metadata": {},
     "output_type": "display_data"
    }
   ],
   "source": [
    "import os\n",
    "import glob\n",
    "from IPython.display import display, FileLink\n",
    "\n",
    "def display_sld_diagrams():\n",
    "    \"\"\"Display all generated SLD diagrams\"\"\"\n",
    "    # First check the main SLD diagram folder\n",
    "    svg_files = glob.glob('SLD diagram/*.svg')\n",
    "    \n",
    "    # Then check the CSS/SLD diagram folder\n",
    "    css_svg_files = glob.glob('CSS/SLD diagram/*.svg')\n",
    "    \n",
    "    if not svg_files and not css_svg_files:\n",
    "        print(\"No SVG diagrams found. Run an analysis first.\")\n",
    "        return\n",
    "    \n",
    "    if svg_files:\n",
    "        print(f\"Found {len(svg_files)} SLD diagram(s) in main folder:\")\n",
    "        for svg_file in sorted(svg_files):\n",
    "            print(f\"\\n{os.path.basename(svg_file)}:\")\n",
    "            display(FileLink(svg_file))\n",
    "    \n",
    "    if css_svg_files:\n",
    "        print(f\"\\nFound {len(css_svg_files)} SLD diagram(s) in CSS folder:\")\n",
    "        for svg_file in sorted(css_svg_files):\n",
    "            print(f\"\\n{os.path.basename(svg_file)}:\")\n",
    "            display(FileLink(svg_file))\n",
    "\n",
    "display_sld_diagrams()"
   ]
  },
  {
   "cell_type": "code",
   "execution_count": null,
   "id": "cf95c1b5-300c-4525-848b-737909421597",
   "metadata": {},
   "outputs": [],
   "source": []
  }
 ],
 "metadata": {
  "kernelspec": {
   "display_name": "Python 3 (ipykernel)",
   "language": "python",
   "name": "python3"
  },
  "language_info": {
   "codemirror_mode": {
    "name": "ipython",
    "version": 3
   },
   "file_extension": ".py",
   "mimetype": "text/x-python",
   "name": "python",
   "nbconvert_exporter": "python",
   "pygments_lexer": "ipython3",
   "version": "3.12.3"
  }
 },
 "nbformat": 4,
 "nbformat_minor": 5
}
